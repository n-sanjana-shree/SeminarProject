{
  "nbformat": 4,
  "nbformat_minor": 0,
  "metadata": {
    "colab": {
      "provenance": []
    },
    "kernelspec": {
      "name": "python3",
      "display_name": "Python 3"
    },
    "language_info": {
      "name": "python"
    }
  },
  "cells": [
    {
      "cell_type": "code",
      "execution_count": null,
      "metadata": {
        "id": "4kCUujR0I8CD"
      },
      "outputs": [],
      "source": [
        "#@title 1. Uninstall and Install dependencies { display-mode: \"form\" }\n",
        "#@markdown You can click \"show code\" if you want to mess with it, but you shouldn't need to.\n",
        "!apt install --allow-change-held-packages libcudnn8=8.1.0.77-1+cuda11.2\n",
        "!pip uninstall -y tensorflow estimator keras\n",
        "!pip install -U tensorflow_text tensorflow tensorflow_datasets\n",
        "!pip install einops"
      ]
    },
    {
      "cell_type": "code",
      "source": [
        "#@title 2. Import the necessary libraries { display-mode: \"form\" }\n",
        "#@markdown You can click \"show code\" if you want to mess with it, but you shouldn't need to.\n",
        "\n",
        "#@title\n",
        "import concurrent.futures\n",
        "import collections\n",
        "import dataclasses\n",
        "import hashlib\n",
        "import itertools\n",
        "import json\n",
        "import math\n",
        "import os\n",
        "import pathlib\n",
        "import random\n",
        "import re\n",
        "import string\n",
        "import time\n",
        "import urllib.request\n",
        "\n",
        "import einops\n",
        "import matplotlib.pyplot as plt\n",
        "import numpy as np\n",
        "import pandas as pd\n",
        "from PIL import Image\n",
        "import requests\n",
        "import tqdm\n",
        "\n",
        "import tensorflow as tf\n",
        "import tensorflow_hub as hub\n",
        "import tensorflow_text as text\n",
        "import tensorflow_datasets as tfds"
      ],
      "metadata": {
        "id": "ZjHgH8AiJEYF"
      },
      "execution_count": null,
      "outputs": []
    },
    {
      "cell_type": "code",
      "source": [
        "#@title 3. Import Flicker8k_Dataset{ display-mode: \"form\" }\n",
        "#@markdown You can click \"show code\" if you want to mess with it, but you shouldn't need to.\n",
        "def flickr8k(path='flickr8k'):\n",
        "  path = pathlib.Path(path)\n",
        "\n",
        "  if len(list(path.rglob('*'))) < 16197:\n",
        "    tf.keras.utils.get_file(\n",
        "        origin='https://github.com/jbrownlee/Datasets/releases/download/Flickr8k/Flickr8k_Dataset.zip',\n",
        "        cache_dir='.',\n",
        "        cache_subdir=path,\n",
        "        extract=True)\n",
        "    tf.keras.utils.get_file(\n",
        "        origin='https://github.com/jbrownlee/Datasets/releases/download/Flickr8k/Flickr8k_text.zip',\n",
        "        cache_dir='.',\n",
        "        cache_subdir=path,\n",
        "        extract=True)\n",
        "\n",
        "  captions = (path/\"Flickr8k.token.txt\").read_text().splitlines()\n",
        "  captions = (line.split('\\t') for line in captions)\n",
        "  captions = ((fname.split('#')[0], caption) for (fname, caption) in captions)\n",
        "\n",
        "  cap_dict = collections.defaultdict(list)\n",
        "  for fname, cap in captions:\n",
        "    cap_dict[fname].append(cap)\n",
        "\n",
        "  train_files = (path/'Flickr_8k.trainImages.txt').read_text().splitlines()\n",
        "  train_captions = [(str(path/'Flicker8k_Dataset'/fname), cap_dict[fname]) for fname in train_files]\n",
        "\n",
        "  test_files = (path/'Flickr_8k.testImages.txt').read_text().splitlines()\n",
        "  test_captions = [(str(path/'Flicker8k_Dataset'/fname), cap_dict[fname]) for fname in test_files]\n",
        "\n",
        "  train_ds = tf.data.experimental.from_list(train_captions)\n",
        "  test_ds = tf.data.experimental.from_list(test_captions)\n",
        "\n",
        "  return train_ds, test_ds"
      ],
      "metadata": {
        "id": "gDoSjxNIJcJP"
      },
      "execution_count": null,
      "outputs": []
    },
    {
      "cell_type": "code",
      "source": [],
      "metadata": {
        "id": "Yos2oT-jJJ6c"
      },
      "execution_count": null,
      "outputs": []
    },
    {
      "cell_type": "code",
      "execution_count": null,
      "metadata": {
        "id": "vQwnxXZXRl12"
      },
      "outputs": [],
      "source": [
        "#@title 4. Handling Flicker8k_Dataset{ display-mode: \"form\" }\n",
        "#@markdown You can click \"show code\" if you want to mess with it, but you shouldn't need to.\n",
        "def conceptual_captions(*, data_dir=\"conceptual_captions\", num_train, num_val):\n",
        "  def iter_index(index_path):\n",
        "    with open(index_path) as f:\n",
        "      for line in f:\n",
        "        caption, url = line.strip().split('\\t')\n",
        "        yield caption, url\n",
        "\n",
        "  def download_image_urls(data_dir, urls):\n",
        "    ex = concurrent.futures.ThreadPoolExecutor(max_workers=100)\n",
        "    def save_image(url):\n",
        "      hash = hashlib.sha1(url.encode())\n",
        "      # Name the files after the hash of the URL.\n",
        "      file_path = data_dir/f'{hash.hexdigest()}.jpeg'\n",
        "      if file_path.exists():\n",
        "        # Only download each file once.\n",
        "        return file_path\n",
        "\n",
        "      try:\n",
        "        result = requests.get(url, timeout=5)\n",
        "      except Exception:\n",
        "        file_path = None\n",
        "      else:\n",
        "        file_path.write_bytes(result.content)\n",
        "      return file_path\n",
        "\n",
        "    result = []\n",
        "    out_paths = ex.map(save_image, urls)\n",
        "    for file_path in tqdm.tqdm(out_paths, total=len(urls)):\n",
        "      result.append(file_path)\n",
        "\n",
        "    return result\n",
        "\n",
        "  def ds_from_index_file(index_path, data_dir, count):\n",
        "    data_dir.mkdir(exist_ok=True)\n",
        "    index = list(itertools.islice(iter_index(index_path), count))\n",
        "    captions = [caption for caption, url in index]\n",
        "    urls = [url for caption, url in index]\n",
        "\n",
        "    paths = download_image_urls(data_dir, urls)\n",
        "\n",
        "    new_captions = []\n",
        "    new_paths = []\n",
        "    for cap, path in zip(captions, paths):\n",
        "      if path is None:\n",
        "        # Download failed, so skip this pair.\n",
        "        continue\n",
        "      new_captions.append(cap)\n",
        "      new_paths.append(path)\n",
        "\n",
        "    new_paths = [str(p) for p in new_paths]\n",
        "\n",
        "    ds = tf.data.Dataset.from_tensor_slices((new_paths, new_captions))\n",
        "    ds = ds.map(lambda path,cap: (path, cap[tf.newaxis])) # 1 caption per image\n",
        "    return ds\n",
        "\n",
        "  data_dir = pathlib.Path(data_dir)\n",
        "  train_index_path = tf.keras.utils.get_file(\n",
        "    origin='https://storage.googleapis.com/gcc-data/Train/GCC-training.tsv',\n",
        "    cache_subdir=data_dir,\n",
        "    cache_dir='.')\n",
        "\n",
        "  val_index_path = tf.keras.utils.get_file(\n",
        "    origin='https://storage.googleapis.com/gcc-data/Validation/GCC-1.1.0-Validation.tsv',\n",
        "    cache_subdir=data_dir,\n",
        "    cache_dir='.')\n",
        "\n",
        "  train_raw = ds_from_index_file(train_index_path, data_dir=data_dir/'train', count=num_train)\n",
        "  test_raw = ds_from_index_file(val_index_path, data_dir=data_dir/'val', count=num_val)\n",
        "\n",
        "  return train_raw, test_raw"
      ]
    },
    {
      "cell_type": "code",
      "source": [
        "#@title{ display-mode: \"form\" }\n",
        "#@markdown You can click \"show code\" if you want to mess with it, but you shouldn't need to.\n",
        "choose = 'flickr8k'\n",
        "\n",
        "if choose == 'flickr8k':\n",
        "  train_raw, test_raw = flickr8k()\n",
        "else:\n",
        "  train_raw, test_raw = conceptual_captions(num_train=10000, num_val=5000)"
      ],
      "metadata": {
        "id": "9Cmw0_jJJLFM"
      },
      "execution_count": null,
      "outputs": []
    },
    {
      "cell_type": "code",
      "source": [
        "#@title{ display-mode: \"form\" }\n",
        "#@markdown You can click \"show code\" if you want to mess with it, but you shouldn't need to.\n",
        "for ex_path, ex_captions in train_raw.take(1):\n",
        "  print(ex_path)\n",
        "  print(ex_captions)"
      ],
      "metadata": {
        "colab": {
          "base_uri": "https://localhost:8080/"
        },
        "id": "tf7ESTQDP7Yz",
        "outputId": "f474fe0b-a8e7-477c-e9ab-2ff767a67f6d"
      },
      "execution_count": null,
      "outputs": [
        {
          "output_type": "stream",
          "name": "stdout",
          "text": [
            "tf.Tensor(b'flickr8k/Flicker8k_Dataset/2513260012_03d33305cf.jpg', shape=(), dtype=string)\n",
            "tf.Tensor(\n",
            "[b'A black dog is running after a white dog in the snow .'\n",
            " b'Black dog chasing brown dog through snow'\n",
            " b'Two dogs chase each other across the snowy ground .'\n",
            " b'Two dogs play together in the snow .'\n",
            " b'Two dogs running through a low lying body of water .'], shape=(5,), dtype=string)\n"
          ]
        }
      ]
    },
    {
      "cell_type": "code",
      "source": [
        "#@title{ display-mode: \"form\" }\n",
        "#@markdown You can click \"show code\" if you want to mess with it, but you shouldn't need to.\n",
        "IMAGE_SHAPE=(224, 224, 3)\n",
        "mobilenet = tf.keras.applications.MobileNetV3Small(\n",
        "    input_shape=IMAGE_SHAPE,\n",
        "    include_top=False,\n",
        "    include_preprocessing=True)\n",
        "mobilenet.trainable=False"
      ],
      "metadata": {
        "id": "e9t_CkgEKJ5c"
      },
      "execution_count": null,
      "outputs": []
    },
    {
      "cell_type": "code",
      "source": [
        "#@title{ display-mode: \"form\" }\n",
        "#@markdown You can click \"show code\" if you want to mess with it, but you shouldn't need to.\n",
        "def load_image(image_path):\n",
        "    img = tf.io.read_file(image_path)\n",
        "    img = tf.io.decode_jpeg(img, channels=3)\n",
        "    img = tf.image.resize(img, IMAGE_SHAPE[:-1])\n",
        "    return img"
      ],
      "metadata": {
        "id": "zQAuexkpKVhq"
      },
      "execution_count": null,
      "outputs": []
    },
    {
      "cell_type": "code",
      "source": [
        "#@title{ display-mode: \"form\" }\n",
        "#@markdown You can click \"show code\" if you want to mess with it, but you shouldn't need to.\n",
        "test_img_batch = load_image(ex_path)[tf.newaxis, :]\n",
        "\n",
        "print(test_img_batch.shape)\n",
        "print(mobilenet(test_img_batch).shape)"
      ],
      "metadata": {
        "colab": {
          "base_uri": "https://localhost:8080/"
        },
        "id": "rg8S3-DRKY8W",
        "outputId": "af7d318d-a7b3-4ea2-ed4e-ad2e2d2d5473"
      },
      "execution_count": null,
      "outputs": [
        {
          "output_type": "stream",
          "name": "stdout",
          "text": [
            "(1, 224, 224, 3)\n",
            "(1, 7, 7, 576)\n"
          ]
        }
      ]
    },
    {
      "cell_type": "code",
      "source": [
        "#@title{ display-mode: \"form\" }\n",
        "#@markdown You can click \"show code\" if you want to mess with it, but you shouldn't need to.\n",
        "def standardize(s):\n",
        "  s = tf.strings.lower(s)\n",
        "  s = tf.strings.regex_replace(s, f'[{re.escape(string.punctuation)}]', '')\n",
        "  s = tf.strings.join(['[START]', s, '[END]'], separator=' ')\n",
        "  return s"
      ],
      "metadata": {
        "id": "U1sV9KOvKgOV"
      },
      "execution_count": null,
      "outputs": []
    },
    {
      "cell_type": "code",
      "source": [
        "#@title{ display-mode: \"form\" }\n",
        "#@markdown You can click \"show code\" if you want to mess with it, but you shouldn't need to.\n",
        "# Use the top 5000 words for a vocabulary.\n",
        "vocabulary_size = 5000\n",
        "tokenizer = tf.keras.layers.TextVectorization(\n",
        "    max_tokens=vocabulary_size,\n",
        "    standardize=standardize,\n",
        "    ragged=True)\n",
        "# Learn the vocabulary from the caption data."
      ],
      "metadata": {
        "id": "qSXgaFO5Kj6L"
      },
      "execution_count": null,
      "outputs": []
    },
    {
      "cell_type": "code",
      "source": [
        "#@title{ display-mode: \"form\" }\n",
        "#@markdown You can click \"show code\" if you want to mess with it, but you shouldn't need to.\n",
        "tokenizer.adapt(train_raw.map(lambda fp,txt: txt).unbatch().batch(1024))\n",
        "tokenizer.get_vocabulary()[:10]\n",
        "t = tokenizer([['a cat in a hat'], ['a robot dog']])"
      ],
      "metadata": {
        "colab": {
          "base_uri": "https://localhost:8080/"
        },
        "id": "zL6aqncnKogD",
        "outputId": "e62ea6a4-218c-44a0-b8d8-4a84046498a8"
      },
      "execution_count": null,
      "outputs": [
        {
          "output_type": "stream",
          "name": "stderr",
          "text": [
            "WARNING:tensorflow:From /usr/local/lib/python3.8/dist-packages/tensorflow/python/autograph/pyct/static_analysis/liveness.py:83: Analyzer.lamba_check (from tensorflow.python.autograph.pyct.static_analysis.liveness) is deprecated and will be removed after 2023-09-23.\n",
            "Instructions for updating:\n",
            "Lambda fuctions will be no more assumed to be used in the statement where they are used, or at least in the same block. https://github.com/tensorflow/tensorflow/issues/56089\n"
          ]
        }
      ]
    },
    {
      "cell_type": "code",
      "source": [
        "#@title 5. Create mappings for words to indices and indices to words.{ display-mode: \"form\" }\n",
        "#@markdown You can click \"show code\" if you want to mess with it, but you shouldn't need to.\n",
        "# Create mappings for words to indices and indices to words.\n",
        "word_to_index = tf.keras.layers.StringLookup(\n",
        "    mask_token=\"\",\n",
        "    vocabulary=tokenizer.get_vocabulary())\n",
        "index_to_word = tf.keras.layers.StringLookup(\n",
        "    mask_token=\"\",\n",
        "    vocabulary=tokenizer.get_vocabulary(),\n",
        "    invert=True)\n",
        "w = index_to_word(t)\n",
        "w.to_list()"
      ],
      "metadata": {
        "colab": {
          "base_uri": "https://localhost:8080/"
        },
        "id": "cdT4QheaK0PA",
        "outputId": "c736505c-6c66-47f3-839b-11c7c820807b"
      },
      "execution_count": null,
      "outputs": [
        {
          "output_type": "execute_result",
          "data": {
            "text/plain": [
              "[[b'[START]', b'a', b'cat', b'in', b'a', b'hat', b'[END]'],\n",
              " [b'[START]', b'a', b'robot', b'dog', b'[END]']]"
            ]
          },
          "metadata": {},
          "execution_count": 23
        }
      ]
    },
    {
      "cell_type": "code",
      "source": [
        "#@title{ display-mode: \"form\" }\n",
        "#@markdown You can click \"show code\" if you want to mess with it, but you shouldn't need to.\n",
        "tf.strings.reduce_join(w, separator=' ', axis=-1).numpy()"
      ],
      "metadata": {
        "colab": {
          "base_uri": "https://localhost:8080/"
        },
        "id": "ucs0NYgrK5EE",
        "outputId": "5f06836f-a3d5-4dd5-fab3-4f6edce5751b"
      },
      "execution_count": null,
      "outputs": [
        {
          "output_type": "execute_result",
          "data": {
            "text/plain": [
              "array([b'[START] a cat in a hat [END]', b'[START] a robot dog [END]'],\n",
              "      dtype=object)"
            ]
          },
          "metadata": {},
          "execution_count": 24
        }
      ]
    },
    {
      "cell_type": "code",
      "source": [
        "#@title{ display-mode: \"form\" }\n",
        "#@markdown You can click \"show code\" if you want to mess with it, but you shouldn't need to.\n",
        "def match_shapes(images, captions):\n",
        "  caption_shape = einops.parse_shape(captions, 'b c')\n",
        "  captions = einops.rearrange(captions, 'b c -> (b c)')\n",
        "  images = einops.repeat(\n",
        "      images, 'b ... -> (b c) ...',\n",
        "      c = caption_shape['c'])\n",
        "  return images, captions"
      ],
      "metadata": {
        "id": "u2PN6fIsK80a"
      },
      "execution_count": null,
      "outputs": []
    },
    {
      "cell_type": "code",
      "source": [
        "#@title{ display-mode: \"form\" }\n",
        "#@markdown You can click \"show code\" if you want to mess with it, but you shouldn't need to.\n",
        "for ex_paths, ex_captions in train_raw.batch(32).take(1):\n",
        "  break\n",
        "\n",
        "print('image paths:', ex_paths.shape)\n",
        "print('captions:', ex_captions.shape)\n",
        "print()\n",
        "\n",
        "ex_paths, ex_captions = match_shapes(images=ex_paths, captions=ex_captions)\n",
        "\n",
        "print('image_paths:', ex_paths.shape)\n",
        "print('captions:', ex_captions.shape)"
      ],
      "metadata": {
        "colab": {
          "base_uri": "https://localhost:8080/"
        },
        "id": "mmMSgeOiLEh2",
        "outputId": "5fb0de5e-815a-488a-896c-6acd81560c62"
      },
      "execution_count": null,
      "outputs": [
        {
          "output_type": "stream",
          "name": "stdout",
          "text": [
            "image paths: (32,)\n",
            "captions: (32, 5)\n",
            "\n",
            "image_paths: (160,)\n",
            "captions: (160,)\n"
          ]
        }
      ]
    },
    {
      "cell_type": "code",
      "source": [
        "#@title{ display-mode: \"form\" }\n",
        "#@markdown You can click \"show code\" if you want to mess with it, but you shouldn't need to.\n",
        "def prepare_txt(imgs, txts):\n",
        "  tokens = tokenizer(txts)\n",
        "\n",
        "  input_tokens = tokens[..., :-1]\n",
        "  label_tokens = tokens[..., 1:]\n",
        "  return (imgs, input_tokens), label_tokens"
      ],
      "metadata": {
        "id": "PHjgQuU7LFsK"
      },
      "execution_count": null,
      "outputs": []
    },
    {
      "cell_type": "code",
      "source": [
        "#@title 6. Load the images and make batches. Prepare the dataset{ display-mode: \"form\" }\n",
        "#@markdown You can click \"show code\" if you want to mess with it, but you shouldn't need to.\n",
        "def prepare_dataset(ds, tokenizer, batch_size=32, shuffle_buffer=1000):\n",
        "  # Load the images and make batches.\n",
        "  ds = (ds\n",
        "        .shuffle(10000)\n",
        "        .map(lambda path, caption: (load_image(path), caption))\n",
        "        .apply(tf.data.experimental.ignore_errors())\n",
        "        .batch(batch_size))\n",
        "\n",
        "  def to_tensor(inputs, labels):\n",
        "    (images, in_tok), out_tok = inputs, labels\n",
        "    return (images, in_tok.to_tensor()), out_tok.to_tensor()\n",
        "\n",
        "  return (ds\n",
        "          .map(match_shapes, tf.data.AUTOTUNE)\n",
        "          .unbatch()\n",
        "          .shuffle(shuffle_buffer)\n",
        "          .batch(batch_size)\n",
        "          .map(prepare_txt, tf.data.AUTOTUNE)\n",
        "          .map(to_tensor, tf.data.AUTOTUNE)\n",
        "          )"
      ],
      "metadata": {
        "id": "nIxrLeuwLI_X"
      },
      "execution_count": null,
      "outputs": []
    },
    {
      "cell_type": "code",
      "source": [
        "#@title{ display-mode: \"form\" }\n",
        "#@markdown You can click \"show code\" if you want to mess with it, but you shouldn't need to.\n",
        "train_ds = prepare_dataset(train_raw, tokenizer)\n",
        "train_ds.element_spec"
      ],
      "metadata": {
        "colab": {
          "base_uri": "https://localhost:8080/"
        },
        "id": "rEqwj2yNLPfl",
        "outputId": "ee245367-a07c-4a2f-cf80-6620e8764476"
      },
      "execution_count": null,
      "outputs": [
        {
          "output_type": "stream",
          "name": "stderr",
          "text": [
            "WARNING:tensorflow:From <ipython-input-28-03f5d7fa769a>:6: ignore_errors (from tensorflow.python.data.experimental.ops.error_ops) is deprecated and will be removed in a future version.\n",
            "Instructions for updating:\n",
            "Use `tf.data.Dataset.ignore_errors` instead.\n"
          ]
        },
        {
          "output_type": "execute_result",
          "data": {
            "text/plain": [
              "((TensorSpec(shape=(None, 224, 224, 3), dtype=tf.float32, name=None),\n",
              "  TensorSpec(shape=(None, None), dtype=tf.int64, name=None)),\n",
              " TensorSpec(shape=(None, None), dtype=tf.int64, name=None))"
            ]
          },
          "metadata": {},
          "execution_count": 29
        }
      ]
    },
    {
      "cell_type": "code",
      "source": [],
      "metadata": {
        "id": "jjFSiVfYLUON"
      },
      "execution_count": null,
      "outputs": []
    },
    {
      "cell_type": "code",
      "execution_count": null,
      "metadata": {
        "id": "9N1MX5ym6xm5"
      },
      "outputs": [],
      "source": [
        "#@title 7. Save Dataset { display-mode: \"form\" }\n",
        "#@markdown You can click \"show code\" if you want to mess with it, but you shouldn't need to.\n",
        "def save_dataset(ds, save_path, image_model, tokenizer, shards=10, batch_size=32):\n",
        "  # Load the images and make batches.\n",
        "  ds = (ds\n",
        "        .map(lambda path, caption: (load_image(path), caption))\n",
        "        .apply(tf.data.experimental.ignore_errors())\n",
        "        .batch(batch_size))\n",
        "\n",
        "  # Run the feature extractor on each batch\n",
        "  # Don't do this in a .map, because tf.data runs on the CPU.\n",
        "  def gen():\n",
        "    for (images, captions) in tqdm.tqdm(ds):\n",
        "      feature_maps = image_model(images)\n",
        "\n",
        "      feature_maps, captions = match_shapes(feature_maps, captions)\n",
        "      yield feature_maps, captions\n",
        "\n",
        "  # Wrap the generator in a new tf.data.Dataset.\n",
        "  new_ds = tf.data.Dataset.from_generator(\n",
        "      gen,\n",
        "      output_signature=(\n",
        "          tf.TensorSpec(shape=image_model.output_shape),\n",
        "          tf.TensorSpec(shape=(None,), dtype=tf.string)))\n",
        "\n",
        "  # Apply the tokenization\n",
        "  new_ds = (new_ds\n",
        "            .map(prepare_txt, tf.data.AUTOTUNE)\n",
        "            .unbatch()\n",
        "            .shuffle(1000))\n",
        "\n",
        "  # Save the dataset into shard files.\n",
        "  def shard_func(i, item):\n",
        "    return i % shards\n",
        "  new_ds.enumerate().save(save_path, shard_func=shard_func)\n",
        "\n",
        "def load_dataset(save_path, batch_size=32, shuffle=1000, cycle_length=2):\n",
        "  def custom_reader_func(datasets):\n",
        "    datasets = datasets.shuffle(1000)\n",
        "    return datasets.interleave(lambda x: x, cycle_length=cycle_length)\n",
        "\n",
        "  ds = tf.data.Dataset.load(save_path, reader_func=custom_reader_func)\n",
        "\n",
        "  def drop_index(i, x):\n",
        "    return x\n",
        "\n",
        "  ds = (ds\n",
        "        .map(drop_index, tf.data.AUTOTUNE)\n",
        "        .shuffle(shuffle)\n",
        "        .padded_batch(batch_size)\n",
        "        .prefetch(tf.data.AUTOTUNE))\n",
        "  return ds"
      ]
    },
    {
      "cell_type": "code",
      "source": [
        "#@title{ display-mode: \"form\" }\n",
        "#@markdown You can click \"show code\" if you want to mess with it, but you shouldn't need to.\n",
        "save_dataset(train_raw, 'train_cache', mobilenet, tokenizer)\n",
        "save_dataset(test_raw, 'test_cache', mobilenet, tokenizer)"
      ],
      "metadata": {
        "colab": {
          "base_uri": "https://localhost:8080/"
        },
        "id": "WOU3prJiLgJD",
        "outputId": "7209dae5-67aa-446c-cba4-ecbf500fc03f"
      },
      "execution_count": null,
      "outputs": [
        {
          "output_type": "stream",
          "name": "stderr",
          "text": [
            "188it [02:39,  1.18it/s]\n",
            "32it [00:22,  1.42it/s]\n"
          ]
        }
      ]
    },
    {
      "cell_type": "code",
      "source": [
        "#@title 8. Load Dataset{ display-mode: \"form\" }\n",
        "#@markdown You can click \"show code\" if you want to mess with it, but you shouldn't need to.\n",
        "train_ds = load_dataset('train_cache')\n",
        "test_ds = load_dataset('test_cache')"
      ],
      "metadata": {
        "id": "Ou3VO1BILidg"
      },
      "execution_count": null,
      "outputs": []
    },
    {
      "cell_type": "code",
      "source": [
        "#@title{ display-mode: \"form\" }\n",
        "#@markdown You can click \"show code\" if you want to mess with it, but you shouldn't need to.\n",
        "for (inputs, ex_labels) in train_ds.take(1):\n",
        "  (ex_img, ex_in_tok) = inputs\n",
        "\n",
        "print(ex_img.shape)\n",
        "print(ex_in_tok.shape)\n",
        "print(ex_labels.shape)\n",
        "print(ex_in_tok[0].numpy())\n",
        "print(ex_labels[0].numpy())"
      ],
      "metadata": {
        "colab": {
          "base_uri": "https://localhost:8080/"
        },
        "id": "5rAWMZ0ULqXK",
        "outputId": "d1871074-eb0f-4d27-ece5-082b77386076"
      },
      "execution_count": null,
      "outputs": [
        {
          "output_type": "stream",
          "name": "stdout",
          "text": [
            "(32, 7, 7, 576)\n",
            "(32, 22)\n",
            "(32, 22)\n",
            "[  3   2  19   5   2  31 433   9   2 329  31 157  78  11  62 155   5 693\n",
            "   0   0   0   0]\n",
            "[  2  19   5   2  31 433   9   2 329  31 157  78  11  62 155   5 693   4\n",
            "   0   0   0   0]\n"
          ]
        }
      ]
    },
    {
      "cell_type": "code",
      "source": [
        "#@title{ display-mode: \"form\" }\n",
        "#@markdown You can click \"show code\" if you want to mess with it, but you shouldn't need to.\n",
        "class SeqEmbedding(tf.keras.layers.Layer):\n",
        "  def __init__(self, vocab_size, max_length, depth):\n",
        "    super().__init__()\n",
        "    self.pos_embedding = tf.keras.layers.Embedding(input_dim=max_length, output_dim=depth)\n",
        "\n",
        "    self.token_embedding = tf.keras.layers.Embedding(\n",
        "        input_dim=vocab_size,\n",
        "        output_dim=depth,\n",
        "        mask_zero=True)\n",
        "\n",
        "    self.add = tf.keras.layers.Add()\n",
        "\n",
        "  def call(self, seq):\n",
        "    seq = self.token_embedding(seq) # (batch, seq, depth)\n",
        "\n",
        "    x = tf.range(tf.shape(seq)[1])  # (seq)\n",
        "    x = x[tf.newaxis, :]  # (1, seq)\n",
        "    x = self.pos_embedding(x)  # (1, seq, depth)\n",
        "\n",
        "    return self.add([seq,x])"
      ],
      "metadata": {
        "id": "bjJr9FIFLuhF"
      },
      "execution_count": null,
      "outputs": []
    },
    {
      "cell_type": "code",
      "source": [
        "#@title{ display-mode: \"form\" }\n",
        "#@markdown You can click \"show code\" if you want to mess with it, but you shouldn't need to.\n",
        "class CausalSelfAttention(tf.keras.layers.Layer):\n",
        "  def __init__(self, **kwargs):\n",
        "    super().__init__()\n",
        "    self.mha = tf.keras.layers.MultiHeadAttention(**kwargs)\n",
        "    # Use Add instead of + so the keras mask propagates through.\n",
        "    self.add = tf.keras.layers.Add()\n",
        "    self.layernorm = tf.keras.layers.LayerNormalization()\n",
        "\n",
        "  def call(self, x):\n",
        "    attn = self.mha(query=x, value=x,\n",
        "                    use_causal_mask=True)\n",
        "    x = self.add([x, attn])\n",
        "    return self.layernorm(x)"
      ],
      "metadata": {
        "id": "OO5srVQUL1pM"
      },
      "execution_count": null,
      "outputs": []
    },
    {
      "cell_type": "code",
      "source": [
        "#@title{ display-mode: \"form\" }\n",
        "#@markdown You can click \"show code\" if you want to mess with it, but you shouldn't need to.\n",
        "class CrossAttention(tf.keras.layers.Layer):\n",
        "  def __init__(self,**kwargs):\n",
        "    super().__init__()\n",
        "    self.mha = tf.keras.layers.MultiHeadAttention(**kwargs)\n",
        "    self.add = tf.keras.layers.Add()\n",
        "    self.layernorm = tf.keras.layers.LayerNormalization()\n",
        "\n",
        "  def call(self, x, y, **kwargs):\n",
        "    attn, attention_scores = self.mha(\n",
        "             query=x, value=y,\n",
        "             return_attention_scores=True)\n",
        "\n",
        "    self.last_attention_scores = attention_scores\n",
        "\n",
        "    x = self.add([x, attn])\n",
        "    return self.layernorm(x)"
      ],
      "metadata": {
        "id": "ebJNOma9L9Z2"
      },
      "execution_count": null,
      "outputs": []
    },
    {
      "cell_type": "code",
      "source": [
        "#@title{ display-mode: \"form\" }\n",
        "#@markdown You can click \"show code\" if you want to mess with it, but you shouldn't need to.\n",
        "class FeedForward(tf.keras.layers.Layer):\n",
        "  def __init__(self, units, dropout_rate=0.1):\n",
        "    super().__init__()\n",
        "    self.seq = tf.keras.Sequential([\n",
        "        tf.keras.layers.Dense(units=2*units, activation='relu'),\n",
        "        tf.keras.layers.Dense(units=units),\n",
        "        tf.keras.layers.Dropout(rate=dropout_rate),\n",
        "    ])\n",
        "\n",
        "    self.layernorm = tf.keras.layers.LayerNormalization()\n",
        "\n",
        "  def call(self, x):\n",
        "    x = x + self.seq(x)\n",
        "    return self.layernorm(x)"
      ],
      "metadata": {
        "id": "zFVF3Yb5L-5Y"
      },
      "execution_count": null,
      "outputs": []
    },
    {
      "cell_type": "code",
      "source": [
        "#@title 9a. Build the model: Encoder DecoderLayer{ display-mode: \"form\" }\n",
        "#@markdown You can click \"show code\" if you want to mess with it, but you shouldn't need to.\n",
        "class DecoderLayer(tf.keras.layers.Layer):\n",
        "  def __init__(self, units, num_heads=1, dropout_rate=0.1):\n",
        "    super().__init__()\n",
        "\n",
        "    self.self_attention = CausalSelfAttention(num_heads=num_heads,\n",
        "                                              key_dim=units,\n",
        "                                              dropout=dropout_rate)\n",
        "    self.cross_attention = CrossAttention(num_heads=num_heads,\n",
        "                                          key_dim=units,\n",
        "                                          dropout=dropout_rate)\n",
        "    self.ff = FeedForward(units=units, dropout_rate=dropout_rate)\n",
        "\n",
        "\n",
        "  def call(self, inputs, training=False):\n",
        "    in_seq, out_seq = inputs\n",
        "\n",
        "    # Text input\n",
        "    out_seq = self.self_attention(out_seq)\n",
        "\n",
        "    out_seq = self.cross_attention(out_seq, in_seq)\n",
        "\n",
        "    self.last_attention_scores = self.cross_attention.last_attention_scores\n",
        "\n",
        "    out_seq = self.ff(out_seq)\n",
        "\n",
        "    return out_seq"
      ],
      "metadata": {
        "id": "99Fm91pmMDPQ"
      },
      "execution_count": null,
      "outputs": []
    },
    {
      "cell_type": "code",
      "execution_count": null,
      "metadata": {
        "id": "CeWw2SFDHUfo"
      },
      "outputs": [],
      "source": [
        "#@title 9b. Build the model: TokenOutput{ display-mode: \"form\" }\n",
        "#@markdown You can click \"show code\" if you want to mess with it, but you shouldn't need to.\n",
        "#@title\n",
        "class TokenOutput(tf.keras.layers.Layer):\n",
        "  def __init__(self, tokenizer, banned_tokens=('', '[UNK]', '[START]'), **kwargs):\n",
        "    super().__init__()\n",
        "\n",
        "    self.dense = tf.keras.layers.Dense(\n",
        "        units=tokenizer.vocabulary_size(), **kwargs)\n",
        "    self.tokenizer = tokenizer\n",
        "    self.banned_tokens = banned_tokens\n",
        "\n",
        "    self.bias = None\n",
        "\n",
        "  def adapt(self, ds):\n",
        "    counts = collections.Counter()\n",
        "    vocab_dict = {name: id\n",
        "                  for id, name in enumerate(self.tokenizer.get_vocabulary())}\n",
        "\n",
        "    for tokens in tqdm.tqdm(ds):\n",
        "      counts.update(tokens.numpy().flatten())\n",
        "\n",
        "    counts_arr = np.zeros(shape=(self.tokenizer.vocabulary_size(),))\n",
        "    counts_arr[np.array(list(counts.keys()), dtype=np.int32)] = list(counts.values())\n",
        "\n",
        "    counts_arr = counts_arr[:]\n",
        "    for token in self.banned_tokens:\n",
        "      counts_arr[vocab_dict[token]] = 0\n",
        "\n",
        "    total = counts_arr.sum()\n",
        "    p = counts_arr/total\n",
        "    p[counts_arr==0] = 1.0\n",
        "    log_p = np.log(p)  # log(1) == 0\n",
        "\n",
        "    entropy = -(log_p*p).sum()\n",
        "\n",
        "    print()\n",
        "    print(f\"Uniform entropy: {np.log(self.tokenizer.vocabulary_size()):0.2f}\")\n",
        "    print(f\"Marginal entropy: {entropy:0.2f}\")\n",
        "\n",
        "    self.bias = log_p\n",
        "    self.bias[counts_arr==0] = -1e9\n",
        "\n",
        "  def call(self, x):\n",
        "    x = self.dense(x)\n",
        "    # TODO(b/250038731): Fix this.\n",
        "    # An Add layer doesn't work because of the different shapes.\n",
        "    # This clears the mask, that's okay because it prevents keras from rescaling\n",
        "    # the losses.\n",
        "    return x + self.bias\n"
      ]
    },
    {
      "cell_type": "code",
      "source": [
        "#@title{ display-mode: \"form\" }\n",
        "#@markdown You can click \"show code\" if you want to mess with it, but you shouldn't need to.\n",
        "output_layer = TokenOutput(tokenizer, banned_tokens=('', '[UNK]', '[START]'))\n",
        "# This might run a little faster if the dataset didn't also have to load the image data.\n",
        "output_layer.adapt(train_ds.map(lambda inputs, labels: labels))"
      ],
      "metadata": {
        "colab": {
          "base_uri": "https://localhost:8080/"
        },
        "id": "2xSrTEUoMRib",
        "outputId": "04e4a491-1025-4e39-f3b4-f4b3712ac8af"
      },
      "execution_count": null,
      "outputs": [
        {
          "output_type": "stream",
          "name": "stderr",
          "text": [
            "100%|██████████| 938/938 [00:10<00:00, 91.50it/s] "
          ]
        },
        {
          "output_type": "stream",
          "name": "stdout",
          "text": [
            "\n",
            "Uniform entropy: 8.52\n",
            "Marginal entropy: 5.29\n"
          ]
        },
        {
          "output_type": "stream",
          "name": "stderr",
          "text": [
            "\n"
          ]
        }
      ]
    },
    {
      "cell_type": "code",
      "source": [
        "#@title{ display-mode: \"form\" }\n",
        "#@markdown You can click \"show code\" if you want to mess with it, but you shouldn't need to.\n",
        "class Captioner(tf.keras.Model):\n",
        "  @classmethod\n",
        "  def add_method(cls, fun):\n",
        "    setattr(cls, fun.__name__, fun)\n",
        "    return fun\n",
        "\n",
        "  def __init__(self, tokenizer, feature_extractor, output_layer, num_layers=1,\n",
        "               units=256, max_length=50, num_heads=1, dropout_rate=0.1):\n",
        "    super().__init__()\n",
        "    self.feature_extractor = feature_extractor\n",
        "    self.tokenizer = tokenizer\n",
        "    self.word_to_index = tf.keras.layers.StringLookup(\n",
        "        mask_token=\"\",\n",
        "        vocabulary=tokenizer.get_vocabulary())\n",
        "    self.index_to_word = tf.keras.layers.StringLookup(\n",
        "        mask_token=\"\",\n",
        "        vocabulary=tokenizer.get_vocabulary(),\n",
        "        invert=True)\n",
        "\n",
        "    self.seq_embedding = SeqEmbedding(\n",
        "        vocab_size=tokenizer.vocabulary_size(),\n",
        "        depth=units,\n",
        "        max_length=max_length)\n",
        "\n",
        "    self.decoder_layers = [\n",
        "        DecoderLayer(units, num_heads=num_heads, dropout_rate=dropout_rate)\n",
        "        for n in range(num_layers)]\n",
        "\n",
        "    self.output_layer = output_layer"
      ],
      "metadata": {
        "id": "2k6KrXeoMa3D"
      },
      "execution_count": null,
      "outputs": []
    },
    {
      "cell_type": "code",
      "source": [
        "#@title{ display-mode: \"form\" }\n",
        "#@markdown You can click \"show code\" if you want to mess with it, but you shouldn't need to.\n",
        "@Captioner.add_method\n",
        "def call(self, inputs):\n",
        "    image, txt = inputs\n",
        "\n",
        "    if image.shape[-1] == 3:\n",
        "      # Apply the feature-extractor, if you get an RGB image.\n",
        "      image = self.feature_extractor(image)\n",
        "\n",
        "    # Flatten the feature map\n",
        "    image = einops.rearrange(image, 'b h w c -> b (h w) c')\n",
        "\n",
        "\n",
        "    if txt.dtype == tf.string:\n",
        "      # Apply the tokenizer if you get string inputs.\n",
        "      txt = tokenizer(txt)\n",
        "\n",
        "    txt = self.seq_embedding(txt)\n",
        "\n",
        "    # Look at the image\n",
        "    for dec_layer in self.decoder_layers:\n",
        "      txt = dec_layer(inputs=(image, txt))\n",
        "\n",
        "    txt = self.output_layer(txt)\n",
        "\n",
        "    return txt"
      ],
      "metadata": {
        "id": "ic8d3RWoMbyB"
      },
      "execution_count": null,
      "outputs": []
    },
    {
      "cell_type": "code",
      "source": [
        "#@title{ display-mode: \"form\" }\n",
        "#@markdown You can click \"show code\" if you want to mess with it, but you shouldn't need to.\n",
        "model = Captioner(tokenizer, feature_extractor=mobilenet, output_layer=output_layer,\n",
        "                  units=256, dropout_rate=0.5, num_layers=2, num_heads=2)"
      ],
      "metadata": {
        "id": "huPoPpFGMhHa"
      },
      "execution_count": null,
      "outputs": []
    },
    {
      "cell_type": "code",
      "source": [
        "#@title 10. Give Image URL { display-mode: \"form\" }\n",
        "#@markdown You can click \"show code\" if you want to mess with it, but you shouldn't need to.\n",
        "image_url = 'https://tensorflow.org/images/surf.jpg'\n",
        "image_path = tf.keras.utils.get_file('surf.jpg', origin=image_url)\n",
        "image = load_image(image_path)"
      ],
      "metadata": {
        "colab": {
          "base_uri": "https://localhost:8080/"
        },
        "id": "-oh55L45Mk8c",
        "outputId": "59e59770-7e6d-4897-8d88-e68cd07312c2"
      },
      "execution_count": null,
      "outputs": [
        {
          "output_type": "stream",
          "name": "stdout",
          "text": [
            "Downloading data from https://tensorflow.org/images/surf.jpg\n",
            "64400/64400 [==============================] - 0s 0us/step\n"
          ]
        }
      ]
    },
    {
      "cell_type": "code",
      "source": [
        "#@title{ display-mode: \"form\" }\n",
        "#@markdown You can click \"show code\" if you want to mess with it, but you shouldn't need to.\n",
        "@Captioner.add_method\n",
        "def simple_gen(self, image, temperature=1):\n",
        "  initial = self.word_to_index([['[START]']]) # (batch, sequence)\n",
        "  img_features = self.feature_extractor(image[tf.newaxis, ...])\n",
        "\n",
        "  tokens = initial # (batch, sequence)\n",
        "  for n in range(50):\n",
        "    preds = self((img_features, tokens)).numpy()  # (batch, sequence, vocab)\n",
        "    preds = preds[:,-1, :]  #(batch, vocab)\n",
        "    if temperature==0:\n",
        "        next = tf.argmax(preds, axis=-1)[:, tf.newaxis]  # (batch, 1)\n",
        "    else:\n",
        "        next = tf.random.categorical(preds/temperature, num_samples=1)  # (batch, 1)\n",
        "    tokens = tf.concat([tokens, next], axis=1) # (batch, sequence)\n",
        "\n",
        "    if next[0] == self.word_to_index('[END]'):\n",
        "      break\n",
        "  words = index_to_word(tokens[0, 1:-1])\n",
        "  result = tf.strings.reduce_join(words, axis=-1, separator=' ')\n",
        "  return result.numpy().decode()"
      ],
      "metadata": {
        "id": "gNGKWd6qMocM"
      },
      "execution_count": null,
      "outputs": []
    },
    {
      "cell_type": "code",
      "source": [
        "#@title{ display-mode: \"form\" }\n",
        "#@markdown You can click \"show code\" if you want to mess with it, but you shouldn't need to.\n",
        "for t in (0.0, 0.5, 1.0):\n",
        "  result = model.simple_gen(image, temperature=t)\n",
        "  print(result)"
      ],
      "metadata": {
        "colab": {
          "base_uri": "https://localhost:8080/"
        },
        "id": "2p4KvAPnMtKp",
        "outputId": "f9c8233b-d97b-4640-fa70-5b276113c9f2"
      },
      "execution_count": null,
      "outputs": [
        {
          "output_type": "stream",
          "name": "stdout",
          "text": [
            "a\n",
            "\n",
            "hat a its a yellow a jacket wrestle children two\n"
          ]
        }
      ]
    },
    {
      "cell_type": "code",
      "source": [
        "#@title{ display-mode: \"form\" }\n",
        "#@markdown You can click \"show code\" if you want to mess with it, but you shouldn't need to.\n",
        "def masked_loss(labels, preds):\n",
        "  loss = tf.nn.sparse_softmax_cross_entropy_with_logits(labels, preds)\n",
        "\n",
        "  mask = (labels != 0) & (loss < 1e8)\n",
        "  mask = tf.cast(mask, loss.dtype)\n",
        "\n",
        "  loss = loss*mask\n",
        "  loss = tf.reduce_sum(loss)/tf.reduce_sum(mask)\n",
        "  return loss\n",
        "\n",
        "def masked_acc(labels, preds):\n",
        "  mask = tf.cast(labels!=0, tf.float32)\n",
        "  preds = tf.argmax(preds, axis=-1)\n",
        "  labels = tf.cast(labels, tf.int64)\n",
        "  match = tf.cast(preds == labels, mask.dtype)\n",
        "  acc = tf.reduce_sum(match*mask)/tf.reduce_sum(mask)\n",
        "  return acc"
      ],
      "metadata": {
        "id": "XnJVocj0M07N"
      },
      "execution_count": null,
      "outputs": []
    },
    {
      "cell_type": "code",
      "source": [],
      "metadata": {
        "colab": {
          "base_uri": "https://localhost:8080/",
          "height": 183
        },
        "id": "6vWgudMMgZSx",
        "outputId": "dd262b11-1941-4a22-a815-8d775649e742"
      },
      "execution_count": null,
      "outputs": [
        {
          "output_type": "execute_result",
          "data": {
            "image/jpeg": "[encoded data removed]",
            "text/plain": [
              "<IPython.core.display.Image object>"
            ]
          },
          "metadata": {
            "image/jpeg": {
              "width": 250
            }
          },
          "execution_count": 67
        }
      ]
    },
    {
      "cell_type": "code",
      "source": [
        "#@title{ display-mode: \"form\" }\n",
        "#@markdown You can click \"show code\" if you want to mess with it, but you shouldn't need to.\n",
        "class GenerateText(tf.keras.callbacks.Callback):\n",
        "  def __init__(self):\n",
        "    image_url = 'https://tensorflow.org/images/surf.jpg'\n",
        "    image_path = tf.keras.utils.get_file('surf.jpg', origin=image_url)\n",
        "    self.image = load_image(image_path)\n",
        "\n",
        "  def on_epoch_end(self, epochs=None, logs=None):\n",
        "    print()\n",
        "    print()\n",
        "    for t in (0.0, 0.5, 1.0):\n",
        "      result = self.model.simple_gen(self.image, temperature=t)\n",
        "      print(result)\n",
        "    print()"
      ],
      "metadata": {
        "id": "k0PC5EOJM2F7"
      },
      "execution_count": null,
      "outputs": []
    },
    {
      "cell_type": "code",
      "source": [
        "#@title{ display-mode: \"form\" }\n",
        "#@markdown You can click \"show code\" if you want to mess with it, but you shouldn't need to.\n",
        "g = GenerateText()\n",
        "g.model = model\n",
        "g.on_epoch_end(0)"
      ],
      "metadata": {
        "colab": {
          "base_uri": "https://localhost:8080/"
        },
        "id": "QHDai6yZM7Mi",
        "outputId": "7590d61b-6be9-4dd7-d593-c3cc6bb64447"
      },
      "execution_count": null,
      "outputs": [
        {
          "output_type": "stream",
          "name": "stdout",
          "text": [
            "\n",
            "\n",
            "a\n",
            "\n",
            "path girl swing women green through in a a\n",
            "\n"
          ]
        }
      ]
    },
    {
      "cell_type": "code",
      "source": [
        "#@title{ display-mode: \"form\" }\n",
        "#@markdown You can click \"show code\" if you want to mess with it, but you shouldn't need to.\n",
        "callbacks = [\n",
        "    GenerateText(),\n",
        "    tf.keras.callbacks.EarlyStopping(\n",
        "        patience=5, restore_best_weights=True)]"
      ],
      "metadata": {
        "id": "M4U5Wp9KNIhu"
      },
      "execution_count": null,
      "outputs": []
    },
    {
      "cell_type": "code",
      "source": [
        "#@title{ display-mode: \"form\" }\n",
        "#@markdown You can click \"show code\" if you want to mess with it, but you shouldn't need to.\n",
        "model.compile(optimizer=tf.keras.optimizers.Adam(learning_rate=1e-4),\n",
        "           loss=masked_loss,\n",
        "           metrics=[masked_acc])"
      ],
      "metadata": {
        "id": "kYPrecopNJqL"
      },
      "execution_count": null,
      "outputs": []
    },
    {
      "cell_type": "code",
      "source": [
        "#@title 11. Epoches wise output of the caption { display-mode: \"form\" }\n",
        "#@markdown You can click \"show code\" if you want to mess with it, but you shouldn't need to.\n",
        "\n",
        "history = model.fit(\n",
        "    train_ds.repeat(),\n",
        "    steps_per_epoch=100,\n",
        "    validation_data=test_ds.repeat(),\n",
        "    validation_steps=20,\n",
        "    epochs=100,\n",
        "    callbacks=callbacks)\n",
        "import IPython\n",
        "url='https://tensorflow.org/images/surf.jpg'\n",
        "IPython.display.Image(url,width=250)"
      ],
      "metadata": {
        "colab": {
          "base_uri": "https://localhost:8080/",
          "height": 1000
        },
        "id": "q49txEXSNMyJ",
        "outputId": "a7d0e1bb-ba3a-4c2c-9018-49ceddd3a108"
      },
      "execution_count": null,
      "outputs": [
        {
          "output_type": "stream",
          "name": "stdout",
          "text": [
            "Epoch 1/100\n",
            "100/100 [==============================] - ETA: 0s - loss: 2.8905 - masked_acc: 0.4095\n",
            "\n",
            "a man in a yellow shirt is surfing\n",
            "a man in a wetsuit is surfing\n",
            "a man in a life vest rides a wave\n",
            "\n",
            "100/100 [==============================] - 81s 810ms/step - loss: 2.8905 - masked_acc: 0.4095 - val_loss: 3.0158 - val_masked_acc: 0.3871\n",
            "Epoch 2/100\n",
            "100/100 [==============================] - ETA: 0s - loss: 2.9110 - masked_acc: 0.4054\n",
            "\n",
            "a man in a yellow shirt is riding a wave\n",
            "a surfer is riding a wave\n",
            "a surfer in yellow bathing makes a wetsuit rides a pool on a body of others\n",
            "\n",
            "100/100 [==============================] - 79s 786ms/step - loss: 2.9110 - masked_acc: 0.4054 - val_loss: 3.0256 - val_masked_acc: 0.3853\n",
            "Epoch 3/100\n",
            "100/100 [==============================] - ETA: 0s - loss: 2.8990 - masked_acc: 0.4043\n",
            "\n",
            "a man in a red shirt is riding a wave\n",
            "a man in a red life helmet is falling into a pool\n",
            "a man swimming in a wave\n",
            "\n",
            "100/100 [==============================] - 74s 747ms/step - loss: 2.8990 - masked_acc: 0.4043 - val_loss: 2.9831 - val_masked_acc: 0.3839\n",
            "Epoch 4/100\n",
            "100/100 [==============================] - ETA: 0s - loss: 2.8794 - masked_acc: 0.4083\n",
            "\n",
            "a man in a red wetsuit is surfing\n",
            "a surfer is surfing on a wave\n",
            "a boy in a paddling girl swimming pool and boat\n",
            "\n",
            "100/100 [==============================] - 73s 729ms/step - loss: 2.8794 - masked_acc: 0.4083 - val_loss: 3.0301 - val_masked_acc: 0.3888\n",
            "Epoch 5/100\n",
            "100/100 [==============================] - ETA: 0s - loss: 2.8561 - masked_acc: 0.4098\n",
            "\n",
            "a man in a yellow kayak is surfing\n",
            "a man in a wetsuit surfing\n",
            "a surfer in a surfboard is surfing the talking from the water\n",
            "\n",
            "100/100 [==============================] - 73s 736ms/step - loss: 2.8561 - masked_acc: 0.4098 - val_loss: 3.0228 - val_masked_acc: 0.3801\n",
            "Epoch 6/100\n",
            "100/100 [==============================] - ETA: 0s - loss: 2.8544 - masked_acc: 0.4086\n",
            "\n",
            "a man in a yellow shirt is surfing on a wave\n",
            "a man surfing a wave\n",
            "a man surfs on a water fishing\n",
            "\n",
            "100/100 [==============================] - 74s 746ms/step - loss: 2.8544 - masked_acc: 0.4086 - val_loss: 2.9870 - val_masked_acc: 0.3842\n",
            "Epoch 7/100\n",
            "100/100 [==============================] - ETA: 0s - loss: 2.8643 - masked_acc: 0.4041\n",
            "\n",
            "a man in a red wetsuit is surfing\n",
            "a man in a yellow shirt is surfing in the water\n",
            "a man in a white raft into the water game of deep\n",
            "\n",
            "100/100 [==============================] - 74s 738ms/step - loss: 2.8643 - masked_acc: 0.4041 - val_loss: 2.9953 - val_masked_acc: 0.3960\n",
            "Epoch 8/100\n",
            "100/100 [==============================] - ETA: 0s - loss: 2.8486 - masked_acc: 0.4107\n",
            "\n",
            "a man in a red wetsuit is surfing\n",
            "a man in a wetsuit surfing\n",
            "there two ladies rides a water\n",
            "\n",
            "100/100 [==============================] - 73s 731ms/step - loss: 2.8486 - masked_acc: 0.4107 - val_loss: 2.9296 - val_masked_acc: 0.3955\n",
            "Epoch 9/100\n",
            "100/100 [==============================] - ETA: 0s - loss: 2.8384 - masked_acc: 0.4094\n",
            "\n",
            "a man in a red wetsuit is surfing\n",
            "a man in a yellow kayak is surfing\n",
            "a surfer is swimming with a white wetsuit motocross surfer in the air in the calm water\n",
            "\n",
            "100/100 [==============================] - 75s 750ms/step - loss: 2.8384 - masked_acc: 0.4094 - val_loss: 2.9391 - val_masked_acc: 0.3917\n",
            "Epoch 10/100\n",
            "100/100 [==============================] - ETA: 0s - loss: 2.8129 - masked_acc: 0.4113\n",
            "\n",
            "a man in a wetsuit is surfing\n",
            "a surfer rides a wave\n",
            "a surfer is on a waves\n",
            "\n",
            "100/100 [==============================] - 72s 719ms/step - loss: 2.8129 - masked_acc: 0.4113 - val_loss: 2.9675 - val_masked_acc: 0.3910\n",
            "Epoch 11/100\n",
            "100/100 [==============================] - ETA: 0s - loss: 2.7530 - masked_acc: 0.4215\n",
            "\n",
            "a man in a red shirt is surfing\n",
            "a man in a yellow wetsuit rides a wave\n",
            "a boy in a white wetsuit on the surfboard\n",
            "\n",
            "100/100 [==============================] - 73s 725ms/step - loss: 2.7530 - masked_acc: 0.4215 - val_loss: 2.9506 - val_masked_acc: 0.3876\n",
            "Epoch 12/100\n",
            "100/100 [==============================] - ETA: 0s - loss: 2.7536 - masked_acc: 0.4156\n",
            "\n",
            "a man in a red kayak is surfing\n",
            "a surfer riding a wave\n",
            "a man waterskiing\n",
            "\n",
            "100/100 [==============================] - 71s 708ms/step - loss: 2.7536 - masked_acc: 0.4156 - val_loss: 2.9670 - val_masked_acc: 0.3834\n",
            "Epoch 13/100\n",
            "100/100 [==============================] - ETA: 0s - loss: 2.7406 - masked_acc: 0.4176\n",
            "\n",
            "a man in a red wetsuit is surfing\n",
            "a surfer in a red kayak is surfing\n",
            "a surfer is swims in the water\n",
            "\n",
            "100/100 [==============================] - 77s 766ms/step - loss: 2.7406 - masked_acc: 0.4176 - val_loss: 2.8421 - val_masked_acc: 0.3956\n",
            "Epoch 14/100\n",
            "100/100 [==============================] - ETA: 0s - loss: 2.7465 - masked_acc: 0.4196\n",
            "\n",
            "a man in a red wetsuit is surfing\n",
            "a man wearing a yellow kayak is surfing\n",
            "three opposing light men swinging on wave\n",
            "\n",
            "100/100 [==============================] - 72s 722ms/step - loss: 2.7465 - masked_acc: 0.4196 - val_loss: 2.9335 - val_masked_acc: 0.3916\n",
            "Epoch 15/100\n",
            "100/100 [==============================] - ETA: 0s - loss: 2.7667 - masked_acc: 0.4168\n",
            "\n",
            "a man in a red wetsuit is surfing\n",
            "a man in a wetsuit is surfing\n",
            "a surfer rides a surfboard dressed in a wave\n",
            "\n",
            "100/100 [==============================] - 75s 748ms/step - loss: 2.7667 - masked_acc: 0.4168 - val_loss: 2.9226 - val_masked_acc: 0.3947\n",
            "Epoch 16/100\n",
            "100/100 [==============================] - ETA: 0s - loss: 2.7232 - masked_acc: 0.4230\n",
            "\n",
            "a man in a red wetsuit is surfing\n",
            "a surfer rides a wave\n",
            "a young skateboard splashes through the surf\n",
            "\n",
            "100/100 [==============================] - 76s 766ms/step - loss: 2.7232 - masked_acc: 0.4230 - val_loss: 2.9111 - val_masked_acc: 0.3919\n",
            "Epoch 17/100\n",
            "100/100 [==============================] - ETA: 0s - loss: 2.7256 - masked_acc: 0.4237\n",
            "\n",
            "a man in a red wetsuit is surfing\n",
            "a surfer in a red wetsuit is surfing\n",
            "a man in the swimming trunks of a surfboard\n",
            "\n",
            "100/100 [==============================] - 73s 730ms/step - loss: 2.7256 - masked_acc: 0.4237 - val_loss: 2.8854 - val_masked_acc: 0.3976\n",
            "Epoch 18/100\n",
            "100/100 [==============================] - ETA: 0s - loss: 2.7326 - masked_acc: 0.4196\n",
            "\n",
            "a man in a red wetsuit is surfing on a wave\n",
            "a surfer rides a wave\n",
            "a surfer slides through the air inside a swimming ocean\n",
            "\n",
            "100/100 [==============================] - 73s 729ms/step - loss: 2.7326 - masked_acc: 0.4196 - val_loss: 2.8786 - val_masked_acc: 0.3938\n"
          ]
        },
        {
          "output_type": "execute_result",
          "data": {
            "image/jpeg": "[encoded data removed]",
            "text/plain": [
              "<IPython.core.display.Image object>"
            ]
          },
          "metadata": {
            "image/jpeg": {
              "width": 250
            }
          },
          "execution_count": 68
        }
      ]
    },
    {
      "cell_type": "code",
      "source": [
        "#@title 12. Display Loss and Validation Loss{ display-mode: \"form\" }\n",
        "#@markdown You can click \"show code\" if you want to mess with it, but you shouldn't need to.\n",
        "plt.plot(history.history['loss'], label='loss')\n",
        "plt.plot(history.history['val_loss'], label='val_loss')\n",
        "plt.ylim([0, max(plt.ylim())])\n",
        "plt.xlabel('Epoch #')\n",
        "plt.ylabel('CE/token')\n",
        "plt.legend()"
      ],
      "metadata": {
        "colab": {
          "base_uri": "https://localhost:8080/",
          "height": 297
        },
        "id": "RsHVIo9UNQD4",
        "outputId": "87b2d59a-8e47-4593-b148-c4c1a2c051d8"
      },
      "execution_count": null,
      "outputs": [
        {
          "output_type": "execute_result",
          "data": {
            "text/plain": [
              "<matplotlib.legend.Legend at 0x7f8e29773b80>"
            ]
          },
          "metadata": {},
          "execution_count": 69
        },
        {
          "output_type": "display_data",
          "data": {
            "text/plain": [
              "<Figure size 432x288 with 1 Axes>"
            ],
            "image/png": "[encoded data removed]"
          },
          "metadata": {
            "needs_background": "light"
          }
        }
      ]
    },
    {
      "cell_type": "code",
      "source": [
        "#@title 13. Display Accuracy and Validation Accuracy { display-mode: \"form\" }\n",
        "#@markdown You can click \"show code\" if you want to mess with it, but you shouldn't need to.\n",
        "plt.plot(history.history['masked_acc'], label='accuracy')\n",
        "plt.plot(history.history['val_masked_acc'], label='val_accuracy')\n",
        "plt.ylim([0, max(plt.ylim())])\n",
        "plt.xlabel('Epoch #')\n",
        "plt.ylabel('CE/token')\n",
        "plt.legend()"
      ],
      "metadata": {
        "colab": {
          "base_uri": "https://localhost:8080/",
          "height": 296
        },
        "id": "kcHZTm7WNUox",
        "outputId": "e3518eea-0ccd-4622-9535-e788061608f6"
      },
      "execution_count": null,
      "outputs": [
        {
          "output_type": "execute_result",
          "data": {
            "text/plain": [
              "<matplotlib.legend.Legend at 0x7f8e2f250880>"
            ]
          },
          "metadata": {},
          "execution_count": 70
        },
        {
          "output_type": "display_data",
          "data": {
            "text/plain": [
              "<Figure size 432x288 with 1 Axes>"
            ],
            "image/png": "[encoded data removed]"
          },
          "metadata": {
            "needs_background": "light"
          }
        }
      ]
    }
  ]
}